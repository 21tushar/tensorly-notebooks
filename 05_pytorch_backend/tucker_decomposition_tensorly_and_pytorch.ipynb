{
 "cells": [
  {
   "cell_type": "code",
   "execution_count": 1,
   "metadata": {},
   "outputs": [
    {
     "name": "stderr",
     "output_type": "stream",
     "text": [
      "Using numpy backend.\n"
     ]
    }
   ],
   "source": [
    "import numpy as np\n",
    "\n",
    "# Import PyTorch\n",
    "import torch\n",
    "from torch.autograd import Variable\n",
    "\n",
    "# Import TensorLy\n",
    "import tensorly as tl\n",
    "from tensorly.tucker_tensor import tucker_to_tensor\n",
    "from tensorly.random import check_random_state"
   ]
  },
  {
   "cell_type": "code",
   "execution_count": 2,
   "metadata": {},
   "outputs": [
    {
     "name": "stderr",
     "output_type": "stream",
     "text": [
      "Using pytorch backend.\n"
     ]
    }
   ],
   "source": [
    "tl.set_backend('pytorch')"
   ]
  },
  {
   "cell_type": "markdown",
   "metadata": {},
   "source": [
    "Make the results reproducible by fixing the random seed"
   ]
  },
  {
   "cell_type": "code",
   "execution_count": 3,
   "metadata": {},
   "outputs": [],
   "source": [
    "random_state = 1234\n",
    "rng = check_random_state(random_state)\n"
   ]
  },
  {
   "cell_type": "markdown",
   "metadata": {},
   "source": [
    "Define a random tensor which we will try to decompose. We wrap our tensors in Variables so we can backpropagate through them:\n",
    "\n"
   ]
  },
  {
   "cell_type": "code",
   "execution_count": 4,
   "metadata": {},
   "outputs": [],
   "source": [
    "shape = [5, 5, 5]\n",
    "tensor = Variable(tl.tensor(rng.random_sample(shape)), requires_grad=True)\n"
   ]
  },
  {
   "cell_type": "markdown",
   "metadata": {},
   "source": [
    "Initialise a random Tucker decomposition of that tensor\n",
    "\n"
   ]
  },
  {
   "cell_type": "code",
   "execution_count": 6,
   "metadata": {},
   "outputs": [],
   "source": [
    "ranks = [5, 5, 5]\n",
    "core = Variable(tl.tensor(rng.random_sample(ranks)), requires_grad=True)\n",
    "factors = [Variable(tl.tensor(rng.random_sample((tensor.shape[i], ranks[i]))),\n",
    "                 requires_grad=True) for i in range(tl.ndim(tensor))]\n"
   ]
  },
  {
   "cell_type": "markdown",
   "metadata": {},
   "source": [
    "Now we just iterate through the training loop and backpropagate...\n",
    "\n"
   ]
  },
  {
   "cell_type": "code",
   "execution_count": 7,
   "metadata": {},
   "outputs": [
    {
     "name": "stdout",
     "output_type": "stream",
     "text": [
      "Epoch 1000,. Rec. error: 12.675263516353017\n",
      "Epoch 2000,. Rec. error: 9.445408624499127\n",
      "Epoch 3000,. Rec. error: 7.188053087882553\n",
      "Epoch 4000,. Rec. error: 5.518843837818505\n",
      "Epoch 5000,. Rec. error: 4.245414784950455\n",
      "Epoch 6000,. Rec. error: 3.2595007915550918\n",
      "Epoch 7000,. Rec. error: 2.4935482213833473\n",
      "Epoch 8000,. Rec. error: 1.9015988361988734\n",
      "Epoch 9000,. Rec. error: 1.450236875395197\n"
     ]
    }
   ],
   "source": [
    "n_iter = 10000\n",
    "lr = 0.00005\n",
    "penalty = 0.1\n",
    "\n",
    "optimizer = torch.optim.Adam([core]+factors, lr=lr)\n",
    "\n",
    "for i in range(1, n_iter):\n",
    "    # Important: do not forget to reset the gradients\n",
    "    optimizer.zero_grad()\n",
    "\n",
    "    # Reconstruct the tensor from the decomposed form\n",
    "    rec = tucker_to_tensor(core, factors)\n",
    "\n",
    "    # squared l2 loss\n",
    "    loss = (rec - tensor).pow(2).sum()\n",
    "\n",
    "    # squared l2 penalty on the factors of the decomposition\n",
    "    for f in factors:\n",
    "        loss = loss + penalty * f.pow(2).sum()\n",
    "\n",
    "    loss.backward()\n",
    "    optimizer.step()\n",
    "\n",
    "    if i % 1000 == 0:\n",
    "        rec_error = tl.norm(rec.data - tensor.data, 2)/tl.norm(tensor.data, 2)\n",
    "        print(\"Epoch %s,. Rec. error: %s\" % (i, rec_error))\n"
   ]
  },
  {
   "cell_type": "code",
   "execution_count": null,
   "metadata": {},
   "outputs": [],
   "source": []
  }
 ],
 "metadata": {
  "kernelspec": {
   "display_name": "Python 3",
   "language": "python",
   "name": "python3"
  },
  "language_info": {
   "codemirror_mode": {
    "name": "ipython",
    "version": 3
   },
   "file_extension": ".py",
   "mimetype": "text/x-python",
   "name": "python",
   "nbconvert_exporter": "python",
   "pygments_lexer": "ipython3",
   "version": "3.6.3"
  }
 },
 "nbformat": 4,
 "nbformat_minor": 2
}
